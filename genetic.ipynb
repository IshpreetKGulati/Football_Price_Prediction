{
 "cells": [
  {
   "cell_type": "code",
   "execution_count": 6,
   "metadata": {},
   "outputs": [
    {
     "name": "stderr",
     "output_type": "stream",
     "text": [
      "  2%|▏         | 22/1000 [00:00<00:04, 218.27it/s]"
     ]
    },
    {
     "name": "stdout",
     "output_type": "stream",
     "text": [
      "Generation:  0\n"
     ]
    },
    {
     "name": "stderr",
     "output_type": "stream",
     "text": [
      "100%|██████████| 1000/1000 [00:03<00:00, 316.49it/s]\n",
      "  4%|▍         | 42/1000 [00:00<00:02, 413.16it/s]"
     ]
    },
    {
     "name": "stdout",
     "output_type": "stream",
     "text": [
      "Error:  0.020215985048078824 COD:  14.889934760079115\n",
      "Generation:  1\n"
     ]
    },
    {
     "name": "stderr",
     "output_type": "stream",
     "text": [
      "100%|██████████| 1000/1000 [00:02<00:00, 410.68it/s]\n",
      "  4%|▍         | 40/1000 [00:00<00:02, 376.85it/s]"
     ]
    },
    {
     "name": "stdout",
     "output_type": "stream",
     "text": [
      "Error:  0.01580114711489295 COD:  33.47657021828228\n",
      "Generation:  2\n"
     ]
    },
    {
     "name": "stderr",
     "output_type": "stream",
     "text": [
      "100%|██████████| 1000/1000 [00:02<00:00, 406.17it/s]\n",
      "  3%|▎         | 26/1000 [00:00<00:03, 256.71it/s]"
     ]
    },
    {
     "name": "stdout",
     "output_type": "stream",
     "text": [
      "Error:  0.013038949778910788 COD:  45.10552596354383\n",
      "Generation:  3\n"
     ]
    },
    {
     "name": "stderr",
     "output_type": "stream",
     "text": [
      "100%|██████████| 1000/1000 [00:02<00:00, 401.17it/s]\n",
      "  4%|▍         | 42/1000 [00:00<00:02, 412.91it/s]"
     ]
    },
    {
     "name": "stdout",
     "output_type": "stream",
     "text": [
      "Error:  0.004579289818847074 COD:  80.72101585415358\n",
      "Generation:  4\n"
     ]
    },
    {
     "name": "stderr",
     "output_type": "stream",
     "text": [
      "100%|██████████| 1000/1000 [00:02<00:00, 385.17it/s]\n",
      "  0%|          | 2/1000 [00:00<01:10, 14.06it/s]"
     ]
    },
    {
     "name": "stdout",
     "output_type": "stream",
     "text": [
      "Error:  0.003428878520642667 COD:  85.56429113408974\n",
      "Generation:  5\n"
     ]
    },
    {
     "name": "stderr",
     "output_type": "stream",
     "text": [
      "100%|██████████| 1000/1000 [00:02<00:00, 360.16it/s]\n",
      "  4%|▎         | 35/1000 [00:00<00:02, 348.05it/s]"
     ]
    },
    {
     "name": "stdout",
     "output_type": "stream",
     "text": [
      "Error:  0.003428878520642667 COD:  85.56429113408974\n",
      "Generation:  6\n"
     ]
    },
    {
     "name": "stderr",
     "output_type": "stream",
     "text": [
      "100%|██████████| 1000/1000 [00:02<00:00, 394.17it/s]\n",
      "  2%|▏         | 22/1000 [00:00<00:04, 204.91it/s]"
     ]
    },
    {
     "name": "stdout",
     "output_type": "stream",
     "text": [
      "Error:  0.0031997765723911268 COD:  86.52881904187697\n",
      "Generation:  7\n"
     ]
    },
    {
     "name": "stderr",
     "output_type": "stream",
     "text": [
      "100%|██████████| 1000/1000 [00:03<00:00, 318.50it/s]\n",
      "  4%|▍         | 44/1000 [00:00<00:02, 439.52it/s]"
     ]
    },
    {
     "name": "stdout",
     "output_type": "stream",
     "text": [
      "Error:  0.0023188164190977847 COD:  90.23769476285959\n",
      "Generation:  8\n"
     ]
    },
    {
     "name": "stderr",
     "output_type": "stream",
     "text": [
      "100%|██████████| 1000/1000 [00:02<00:00, 409.43it/s]\n",
      "  5%|▍         | 47/1000 [00:00<00:02, 455.16it/s]"
     ]
    },
    {
     "name": "stdout",
     "output_type": "stream",
     "text": [
      "Error:  0.0023188164190977847 COD:  90.23769476285959\n",
      "Generation:  9\n"
     ]
    },
    {
     "name": "stderr",
     "output_type": "stream",
     "text": [
      "100%|██████████| 1000/1000 [00:03<00:00, 332.43it/s]\n",
      "  4%|▎         | 36/1000 [00:00<00:02, 359.78it/s]"
     ]
    },
    {
     "name": "stdout",
     "output_type": "stream",
     "text": [
      "Error:  0.0015324873236930556 COD:  93.5481701342442\n",
      "Generation:  10\n"
     ]
    },
    {
     "name": "stderr",
     "output_type": "stream",
     "text": [
      "100%|██████████| 1000/1000 [00:02<00:00, 363.07it/s]\n",
      "  4%|▍         | 40/1000 [00:00<00:02, 393.14it/s]"
     ]
    },
    {
     "name": "stdout",
     "output_type": "stream",
     "text": [
      "Error:  0.0011223841388268948 COD:  95.27472012604761\n",
      "Generation:  11\n"
     ]
    },
    {
     "name": "stderr",
     "output_type": "stream",
     "text": [
      "100%|██████████| 1000/1000 [00:02<00:00, 376.18it/s]\n",
      "  4%|▍         | 38/1000 [00:00<00:02, 378.99it/s]"
     ]
    },
    {
     "name": "stdout",
     "output_type": "stream",
     "text": [
      "Error:  0.0011223841388268948 COD:  95.27472012604761\n",
      "Generation:  12\n"
     ]
    },
    {
     "name": "stderr",
     "output_type": "stream",
     "text": [
      "100%|██████████| 1000/1000 [00:02<00:00, 406.41it/s]\n",
      "  4%|▍         | 43/1000 [00:00<00:02, 422.66it/s]"
     ]
    },
    {
     "name": "stdout",
     "output_type": "stream",
     "text": [
      "Error:  0.0011223841388268948 COD:  95.27472012604761\n",
      "Generation:  13\n"
     ]
    },
    {
     "name": "stderr",
     "output_type": "stream",
     "text": [
      "100%|██████████| 1000/1000 [00:02<00:00, 351.32it/s]\n",
      "  4%|▍         | 39/1000 [00:00<00:02, 387.06it/s]"
     ]
    },
    {
     "name": "stdout",
     "output_type": "stream",
     "text": [
      "Error:  0.0011223841388268948 COD:  95.27472012604761\n",
      "Generation:  14\n"
     ]
    },
    {
     "name": "stderr",
     "output_type": "stream",
     "text": [
      "100%|██████████| 1000/1000 [00:02<00:00, 405.08it/s]\n",
      "  4%|▍         | 44/1000 [00:00<00:02, 436.21it/s]"
     ]
    },
    {
     "name": "stdout",
     "output_type": "stream",
     "text": [
      "Error:  0.0007988211598968356 COD:  96.63693256241747\n",
      "Generation:  15\n"
     ]
    },
    {
     "name": "stderr",
     "output_type": "stream",
     "text": [
      "100%|██████████| 1000/1000 [00:02<00:00, 339.76it/s]\n",
      "  4%|▍         | 41/1000 [00:00<00:02, 404.52it/s]"
     ]
    },
    {
     "name": "stdout",
     "output_type": "stream",
     "text": [
      "Error:  0.00030065958272686166 COD:  98.73421173195207\n",
      "Generation:  16\n"
     ]
    },
    {
     "name": "stderr",
     "output_type": "stream",
     "text": [
      "100%|██████████| 1000/1000 [00:03<00:00, 331.30it/s]\n",
      "  2%|▏         | 21/1000 [00:00<00:04, 207.38it/s]"
     ]
    },
    {
     "name": "stdout",
     "output_type": "stream",
     "text": [
      "Error:  0.00030065958272686166 COD:  98.73421173195207\n",
      "Generation:  17\n"
     ]
    },
    {
     "name": "stderr",
     "output_type": "stream",
     "text": [
      "100%|██████████| 1000/1000 [00:03<00:00, 331.98it/s]\n",
      "  4%|▍         | 43/1000 [00:00<00:02, 423.61it/s]"
     ]
    },
    {
     "name": "stdout",
     "output_type": "stream",
     "text": [
      "Error:  0.00030065958272686166 COD:  98.73421173195207\n",
      "Generation:  18\n"
     ]
    },
    {
     "name": "stderr",
     "output_type": "stream",
     "text": [
      "100%|██████████| 1000/1000 [00:03<00:00, 290.51it/s]\n",
      "  2%|▏         | 22/1000 [00:00<00:04, 211.40it/s]"
     ]
    },
    {
     "name": "stdout",
     "output_type": "stream",
     "text": [
      "Error:  0.00024403244609619943 COD:  98.97261412894254\n",
      "Generation:  19\n"
     ]
    },
    {
     "name": "stderr",
     "output_type": "stream",
     "text": [
      "100%|██████████| 1000/1000 [00:02<00:00, 364.21it/s]\n",
      "  2%|▏         | 21/1000 [00:00<00:04, 208.34it/s]"
     ]
    },
    {
     "name": "stdout",
     "output_type": "stream",
     "text": [
      "Error:  0.00024403244609619943 COD:  98.97261412894254\n",
      "Generation:  20\n"
     ]
    },
    {
     "name": "stderr",
     "output_type": "stream",
     "text": [
      "100%|██████████| 1000/1000 [00:03<00:00, 321.98it/s]\n",
      "  4%|▍         | 44/1000 [00:00<00:02, 434.54it/s]"
     ]
    },
    {
     "name": "stdout",
     "output_type": "stream",
     "text": [
      "Error:  0.00024403244609619943 COD:  98.97261412894254\n",
      "Generation:  21\n"
     ]
    },
    {
     "name": "stderr",
     "output_type": "stream",
     "text": [
      "100%|██████████| 1000/1000 [00:02<00:00, 394.69it/s]\n",
      "  4%|▎         | 36/1000 [00:00<00:02, 353.97it/s]"
     ]
    },
    {
     "name": "stdout",
     "output_type": "stream",
     "text": [
      "Error:  0.00024403244609619943 COD:  98.97261412894254\n",
      "Generation:  22\n"
     ]
    },
    {
     "name": "stderr",
     "output_type": "stream",
     "text": [
      "100%|██████████| 1000/1000 [00:02<00:00, 375.18it/s]\n",
      "  4%|▍         | 42/1000 [00:00<00:02, 412.48it/s]"
     ]
    },
    {
     "name": "stdout",
     "output_type": "stream",
     "text": [
      "Error:  6.042714080988325e-05 COD:  99.7455994410186\n",
      "Generation:  23\n"
     ]
    },
    {
     "name": "stderr",
     "output_type": "stream",
     "text": [
      "100%|██████████| 1000/1000 [00:02<00:00, 336.04it/s]"
     ]
    },
    {
     "name": "stdout",
     "output_type": "stream",
     "text": [
      "Error:  5.313039139296596e-05 COD:  99.77631903333311\n",
      "{'COD': 99.77631903333311, 'error': 5.313039139296596e-05, 'coeff': [0.3850446083687994, -0.28137463112038263, 0.20370641522352417, -0.10287482004051351]}\n"
     ]
    },
    {
     "name": "stderr",
     "output_type": "stream",
     "text": [
      "\n"
     ]
    }
   ],
   "source": [
    "\n",
    "  \n",
    "from random import random, sample, choice\n",
    "from math import floor\n",
    "from tqdm import tqdm\n",
    "from numpy import array, dot, mean\n",
    "from numpy.linalg import pinv\n",
    "from sys import exit\n",
    "\n",
    "\n",
    "def generate_data():\n",
    "    \"\"\"\n",
    "    We will generate data with a clear pattern.\n",
    "    This ensures we have an idea of the desired result.\n",
    "    This is only for demonstration purposes, real data is needed in practice.\n",
    "    \"\"\"\n",
    "    coeff = [0.4, -0.3, 0.2, -0.1]\n",
    "    x = [[random() for j in range(len(coeff))] for i in range(1000)]\n",
    "    y = [dot(i, coeff) for i in x]\n",
    "    return array(x), array(y)\n",
    "\n",
    "\n",
    "def multiple_linear_regression(inputs, outputs):\n",
    "    \"\"\"\n",
    "    Get the best expected outcome.\n",
    "    This is expected to equal the coefficients in generate_data().\n",
    "    \"\"\"\n",
    "    X, Y = array(inputs), array(outputs)\n",
    "    X_t, Y_t = X.transpose(), Y.transpose()\n",
    "    coeff = dot((pinv((dot(X_t, X)))), (dot(X_t, Y)))\n",
    "    Y_p = dot(X, coeff)\n",
    "    Y_mean = mean(Y)\n",
    "    SST = array([(i - Y_mean) ** 2 for i in Y]).sum()\n",
    "    SSR = array([(i - j) ** 2 for i, j in zip(Y, Y_p)]).sum()\n",
    "    COD = (1 - (SSR / SST)) * 100.0\n",
    "    av_error = (SSR / len(Y))\n",
    "    return {'COD': COD, 'coeff': coeff, 'error': av_error}\n",
    "\n",
    "\n",
    "def check_termination_condition(best_individual):\n",
    "    \"\"\"\n",
    "    Check if the current_best_individual is better of equal to the expected.\n",
    "    \"\"\"\n",
    "    if ((best_individual['COD'] >= 99.0)\n",
    "            or (generation_count == max_generations)):\n",
    "        return True\n",
    "    else:\n",
    "        return False\n",
    "\n",
    "\n",
    "def create_individual(individual_size):\n",
    "    \"\"\"\n",
    "    Create an individual.\n",
    "    \"\"\"\n",
    "    return [random() for i in range(individual_size)]\n",
    "\n",
    "\n",
    "def create_population(individual_size, population_size):\n",
    "    \"\"\"\n",
    "    Create an initial population.\n",
    "    \"\"\"\n",
    "    return [create_individual(individual_size) for i in range(population_size)]\n",
    "\n",
    "\n",
    "def get_fitness(individual, inputs):\n",
    "    \"\"\"\n",
    "    Calculate the fitness of an individual.\n",
    "    Return the Coefficient of Determination, average error and weight.\n",
    "    We use the error to get the best individual.\n",
    "    \"\"\"\n",
    "    predicted_outputs = dot(array(inputs), array(individual))\n",
    "    output_mean = mean(outputs)\n",
    "    SST = array(\n",
    "        [(i - output_mean) ** 2 for i in outputs]).sum()\n",
    "    SSR = array(\n",
    "        [(i - j) ** 2 for i, j in zip(outputs, predicted_outputs)]).sum()\n",
    "    COD = (1 - (SSR / SST)) * 100.0\n",
    "    av_error = (SSR / len(outputs))\n",
    "    return {'COD': COD, 'error': av_error, 'coeff': individual}\n",
    "\n",
    "\n",
    "def evaluate_population(population):\n",
    "    \"\"\"\n",
    "    Evaluate a population of individuals and return the best among them.\n",
    "    \"\"\"\n",
    "    fitness_list = [get_fitness(individual, inputs)\n",
    "                    for individual in tqdm(population)]\n",
    "    error_list = sorted(fitness_list, key=lambda i: i['error'])\n",
    "    best_individuals = error_list[: selection_size]\n",
    "    best_individuals_stash.append(best_individuals[0]['coeff'])\n",
    "    print('Error: ', best_individuals[0]['error'],\n",
    "          'COD: ', best_individuals[0]['COD'])\n",
    "    return best_individuals\n",
    "\n",
    "\n",
    "def crossover(parent_1, parent_2):\n",
    "    \"\"\"\n",
    "    Return offspring given two parents.\n",
    "    Unlike real scenarios, genes in the chromosomes aren't necessarily linked.\n",
    "    \"\"\"\n",
    "    child = {}\n",
    "    loci = [i for i in range(0, individual_size)]\n",
    "    loci_1 = sample(loci, floor(0.5*(individual_size)))\n",
    "    loci_2 = [i for i in loci if i not in loci_1]\n",
    "    chromosome_1 = [[i, parent_1['coeff'][i]] for i in loci_1]\n",
    "    chromosome_2 = [[i, parent_2['coeff'][i]] for i in loci_2]\n",
    "    child.update({key: value for (key, value) in chromosome_1})\n",
    "    child.update({key: value for (key, value) in chromosome_2})\n",
    "    return [child[i] for i in loci]\n",
    "\n",
    "\n",
    "def mutate(individual):\n",
    "    \"\"\"\n",
    "    Mutate an individual.\n",
    "    The gene transform decides whether we'll add or deduct a random value.\n",
    "    \"\"\"\n",
    "    loci = [i for i in range(0, individual_size)]\n",
    "    no_of_genes_mutated = floor(probability_of_gene_mutating*individual_size)\n",
    "    loci_to_mutate = sample(loci, no_of_genes_mutated)\n",
    "    for locus in loci_to_mutate:\n",
    "        gene_transform = choice([-1, 1])\n",
    "        change = gene_transform*random()\n",
    "        individual[locus] = individual[locus] + change\n",
    "    return individual\n",
    "\n",
    "\n",
    "def get_new_generation(selected_individuals):\n",
    "    \"\"\"\n",
    "    Given selected individuals, create a new population by mating them.\n",
    "    Here we also apply variation operations like mutation and crossover.\n",
    "    \"\"\"\n",
    "    parent_pairs = [sample(selected_individuals, 2)\n",
    "                    for i in range(population_size)]\n",
    "    offspring = [crossover(pair[0], pair[1]) for pair in parent_pairs]\n",
    "    offspring_indices = [i for i in range(population_size)]\n",
    "    offspring_to_mutate = sample(\n",
    "        offspring_indices,\n",
    "        floor(probability_of_individual_mutating*population_size)\n",
    "    )\n",
    "    mutated_offspring = [[i, mutate(offspring[i])]\n",
    "                         for i in offspring_to_mutate]\n",
    "    for child in mutated_offspring:\n",
    "        offspring[child[0]] = child[1]\n",
    "    return offspring\n",
    "\n",
    "inputs, outputs = generate_data()\n",
    "individual_size = len(inputs[0])\n",
    "population_size = 1000\n",
    "selection_size = floor(0.1*population_size)\n",
    "max_generations = 50\n",
    "probability_of_individual_mutating = 0.1\n",
    "probability_of_gene_mutating = 0.25\n",
    "#best_possible = multiple_linear_regression(inputs, outputs)\n",
    "best_individuals_stash = [create_individual(individual_size)]\n",
    "initial_population = create_population(individual_size, 1000)\n",
    "current_population = initial_population\n",
    "termination = False\n",
    "generation_count = 0\n",
    "while termination is False:\n",
    "    current_best_individual = get_fitness(best_individuals_stash[-1], inputs)\n",
    "    print('Generation: ', generation_count)\n",
    "    best_individuals = evaluate_population(current_population)\n",
    "    current_population = get_new_generation(best_individuals)\n",
    "    termination = check_termination_condition(current_best_individual)\n",
    "    generation_count += 1\n",
    "else:\n",
    "    print(get_fitness(best_individuals_stash[-1], inputs))\n",
    "\n"
   ]
  },
  {
   "cell_type": "code",
   "execution_count": null,
   "metadata": {},
   "outputs": [],
   "source": []
  },
  {
   "cell_type": "code",
   "execution_count": null,
   "metadata": {},
   "outputs": [],
   "source": []
  }
 ],
 "metadata": {
  "kernelspec": {
   "display_name": "Python 3",
   "language": "python",
   "name": "python3"
  },
  "language_info": {
   "codemirror_mode": {
    "name": "ipython",
    "version": 3
   },
   "file_extension": ".py",
   "mimetype": "text/x-python",
   "name": "python",
   "nbconvert_exporter": "python",
   "pygments_lexer": "ipython3",
   "version": "3.8.3"
  }
 },
 "nbformat": 4,
 "nbformat_minor": 4
}
