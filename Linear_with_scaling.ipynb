{
 "cells": [
  {
   "cell_type": "code",
   "execution_count": 413,
   "metadata": {},
   "outputs": [],
   "source": [
    "import pandas as pd\n",
    "import seaborn as sns\n",
    "import matplotlib.pyplot as plt\n",
    "import tqdm as tqdm\n",
    "import numpy as np"
   ]
  },
  {
   "cell_type": "code",
   "execution_count": 414,
   "metadata": {},
   "outputs": [
    {
     "name": "stderr",
     "output_type": "stream",
     "text": [
      "/opt/anaconda3/lib/python3.8/site-packages/pandas/core/indexing.py:671: SettingWithCopyWarning: \n",
      "A value is trying to be set on a copy of a slice from a DataFrame\n",
      "\n",
      "See the caveats in the documentation: https://pandas.pydata.org/pandas-docs/stable/user_guide/indexing.html#returning-a-view-versus-a-copy\n",
      "  self._setitem_with_indexer(indexer, value)\n"
     ]
    },
    {
     "name": "stdout",
     "output_type": "stream",
     "text": [
      "name             object\n",
      "club             object\n",
      "age               int64\n",
      "position         object\n",
      "position_cat      int64\n",
      "market_value    float64\n",
      "page_views        int64\n",
      "fpl_value       float64\n",
      "fpl_sel         float64\n",
      "fpl_points        int64\n",
      "region          float64\n",
      "nationality      object\n",
      "new_foreign       int64\n",
      "age_cat           int64\n",
      "club_id           int64\n",
      "big_club          int64\n",
      "new_signing       int64\n",
      "dtype: object\n"
     ]
    },
    {
     "data": {
      "text/plain": [
       "<bound method NDFrame.head of                     name      club  age position  position_cat  market_value  \\\n",
       "0         Alexis Sanchez   Arsenal   28       LW             1          65.0   \n",
       "1             Mesut Ozil   Arsenal   28       AM             1          50.0   \n",
       "2              Petr Cech   Arsenal   35       GK             4           7.0   \n",
       "3           Theo Walcott   Arsenal   28       RW             1          20.0   \n",
       "4      Laurent Koscielny   Arsenal   31       CB             3          22.0   \n",
       "..                   ...       ...  ...      ...           ...           ...   \n",
       "456  Edimilson Fernandes  West+Ham   21       CM             2           5.0   \n",
       "457       Arthur Masuaku  West+Ham   23       LB             3           7.0   \n",
       "458            Sam Byram  West+Ham   23       RB             3           4.5   \n",
       "459      Ashley Fletcher  West+Ham   21       CF             1           1.0   \n",
       "460         Diafra Sakho  West+Ham   27       CF             1          10.0   \n",
       "\n",
       "     page_views  fpl_value  fpl_sel  fpl_points  region     nationality  \\\n",
       "0          4329       12.0     17.1         264     3.0           Chile   \n",
       "1          4395        9.5      5.6         167     2.0         Germany   \n",
       "2          1529        5.5      5.9         134     2.0  Czech Republic   \n",
       "3          2393        7.5      1.5         122     1.0         England   \n",
       "4           912        6.0      0.7         121     2.0          France   \n",
       "..          ...        ...      ...         ...     ...             ...   \n",
       "456         288        4.5      0.4          38     2.0     Switzerland   \n",
       "457         199        4.5      0.2          34     4.0        Congo DR   \n",
       "458         198        4.5      0.3          29     1.0         England   \n",
       "459         412        4.5      5.9          16     1.0         England   \n",
       "460         214        5.5      0.1          12     4.0         Senegal   \n",
       "\n",
       "     new_foreign  age_cat  club_id  big_club  new_signing  \n",
       "0              0        4        1         1            0  \n",
       "1              0        4        1         1            0  \n",
       "2              0        6        1         1            0  \n",
       "3              0        4        1         1            0  \n",
       "4              0        4        1         1            0  \n",
       "..           ...      ...      ...       ...          ...  \n",
       "456            0        1       20         0            1  \n",
       "457            0        2       20         0            1  \n",
       "458            0        2       20         0            0  \n",
       "459            0        1       20         0            1  \n",
       "460            0        3       20         0            0  \n",
       "\n",
       "[460 rows x 17 columns]>"
      ]
     },
     "execution_count": 414,
     "metadata": {},
     "output_type": "execute_result"
    }
   ],
   "source": [
    "data = pd.read_csv(\"data.csv\")\n",
    "data = data.dropna()\n",
    "for i in range(0,data.shape[0]):\n",
    "    data['fpl_sel'].iloc[i] = float(str(data['fpl_sel'].iloc[i]).rstrip('%'))\n",
    "data['fpl_sel'] = data['fpl_sel'].astype('float64')\n",
    "print(data.dtypes)\n",
    "data.head"
   ]
  },
  {
   "cell_type": "code",
   "execution_count": 415,
   "metadata": {},
   "outputs": [],
   "source": [
    "#data['page_views'] = np.sqrt(data['page_views'])\n",
    "#data['fpl_sel'] = np.sqrt(data['fpl_sel'])"
   ]
  },
  {
   "cell_type": "code",
   "execution_count": 416,
   "metadata": {},
   "outputs": [
    {
     "name": "stdout",
     "output_type": "stream",
     "text": [
      "1713.400000000001\n",
      "10.4\n"
     ]
    }
   ],
   "source": [
    "print(data['page_views'].quantile(0.90))\n",
    "data[\"page_views\"] = np.where(data[\"page_views\"] <1713.4, 1713.4,data['page_views'])\n",
    "print(data['fpl_sel'].quantile(0.90))\n",
    "data[\"fpl_sel\"] = np.where(data[\"fpl_sel\"] <10.4, 10.4,data['fpl_sel'])"
   ]
  },
  {
   "cell_type": "code",
   "execution_count": 417,
   "metadata": {},
   "outputs": [],
   "source": [
    "import numpy as np\n",
    "X = data[data.columns[~data.columns.isin(['market_value'])]]\n",
    "y = data['market_value']\n",
    "\n",
    "from sklearn.model_selection import train_test_split\n",
    "np.random.seed(37) # Set seed\n",
    "x_train, x_test = train_test_split(X, test_size = 0.15, random_state = 40 )\n",
    "\n",
    "## dont using iloc as we have projected from data\n",
    "y_train = y.loc[x_train.index.values] \n",
    "y_test = y.loc[x_test.index.values]\n",
    "x_train = X.loc[x_train.index.values, :]\n",
    "x_test = X.loc[x_test.index.values, :]"
   ]
  },
  {
   "cell_type": "code",
   "execution_count": 418,
   "metadata": {},
   "outputs": [
    {
     "data": {
      "text/plain": [
       "(391, 11)"
      ]
     },
     "execution_count": 418,
     "metadata": {},
     "output_type": "execute_result"
    }
   ],
   "source": [
    "concat_train_data = pd.concat([x_train,y_train],axis=1)\n",
    "x_train = x_train.dropna()\n",
    "x_train = x_train.drop(['position','name','age','club','nationality'], axis = 1)\n",
    "#scaling\n",
    "from sklearn.preprocessing import StandardScaler\n",
    "scaler =StandardScaler()\n",
    "scaled_data = scaler.fit_transform(x_train)\n",
    "#print(scaler.transform(concat_train_data))\n",
    "scaled_data.shape"
   ]
  },
  {
   "cell_type": "code",
   "execution_count": 419,
   "metadata": {},
   "outputs": [
    {
     "name": "stdout",
     "output_type": "stream",
     "text": [
      "[2.75072243 1.39494706 1.32698917 1.08215631 0.98875446 0.9204883\n",
      " 0.76665807 0.69144442 0.54600807 0.4097055  0.15033134]\n",
      "[ 24.94261216  37.59151596  49.62420086  59.43682491  68.40251288\n",
      "  76.74918657  83.7009803   89.97076227  94.92177707  98.6368467\n",
      " 100.        ]\n"
     ]
    }
   ],
   "source": [
    "import numpy as np\n",
    "from sklearn.decomposition import PCA\n",
    "pca = PCA(n_components=11)\n",
    "pca.fit(scaled_data)\n",
    "print(pca.explained_variance_)\n",
    "print(np.cumsum(pca.explained_variance_ratio_*100))"
   ]
  },
  {
   "cell_type": "code",
   "execution_count": 420,
   "metadata": {},
   "outputs": [
    {
     "data": {
      "image/png": "[encoded data removed]",
      "text/plain": [
       "<Figure size 432x288 with 1 Axes>"
      ]
     },
     "metadata": {
      "needs_background": "light"
     },
     "output_type": "display_data"
    }
   ],
   "source": [
    "plt.plot(np.cumsum(pca.explained_variance_ratio_))\n",
    "plt.show()\n"
   ]
  },
  {
   "cell_type": "code",
   "execution_count": 421,
   "metadata": {},
   "outputs": [
    {
     "name": "stdout",
     "output_type": "stream",
     "text": [
      "94.92177706625324\n"
     ]
    }
   ],
   "source": [
    "print(np.cumsum(pca.explained_variance_ratio_*100)[8])"
   ]
  },
  {
   "cell_type": "code",
   "execution_count": 422,
   "metadata": {},
   "outputs": [
    {
     "name": "stdout",
     "output_type": "stream",
     "text": [
      "98.6368467049611\n"
     ]
    }
   ],
   "source": [
    "print(np.cumsum(pca.explained_variance_ratio_*100)[9])"
   ]
  },
  {
   "cell_type": "code",
   "execution_count": 423,
   "metadata": {},
   "outputs": [
    {
     "data": {
      "text/plain": [
       "PCA(n_components=11)"
      ]
     },
     "execution_count": 423,
     "metadata": {},
     "output_type": "execute_result"
    }
   ],
   "source": [
    "pca = PCA(n_components=11)\n",
    "pca.fit(scaled_data)"
   ]
  },
  {
   "cell_type": "code",
   "execution_count": 424,
   "metadata": {},
   "outputs": [
    {
     "data": {
      "text/plain": [
       "array([ 24.94261216,  37.59151596,  49.62420086,  59.43682491,\n",
       "        68.40251288,  76.74918657,  83.7009803 ,  89.97076227,\n",
       "        94.92177707,  98.6368467 , 100.        ])"
      ]
     },
     "execution_count": 424,
     "metadata": {},
     "output_type": "execute_result"
    }
   ],
   "source": [
    "np.cumsum(pca.explained_variance_ratio_*100)"
   ]
  },
  {
   "cell_type": "code",
   "execution_count": 425,
   "metadata": {},
   "outputs": [
    {
     "data": {
      "text/plain": [
       "0.7543535596770261"
      ]
     },
     "execution_count": 425,
     "metadata": {},
     "output_type": "execute_result"
    }
   ],
   "source": [
    "from sklearn.linear_model import LinearRegression\n",
    "X = pca.transform(scaled_data)\n",
    "y = y_train\n",
    "reg = LinearRegression().fit(X, y)\n",
    "reg.score(X, y) "
   ]
  },
  {
   "cell_type": "code",
   "execution_count": 427,
   "metadata": {},
   "outputs": [],
   "source": [
    "x_test = x_test.drop(['position','name','age','club','nationality'], axis = 1)\n",
    "scaled_data_test = scaler.fit_transform(x_test)\n",
    "test_data = pca.transform(scaled_data_test)\n",
    "pred = reg.predict(test_data)"
   ]
  },
  {
   "cell_type": "code",
   "execution_count": 429,
   "metadata": {},
   "outputs": [
    {
     "data": {
      "text/plain": [
       "24.99831745537082"
      ]
     },
     "execution_count": 429,
     "metadata": {},
     "output_type": "execute_result"
    }
   ],
   "source": [
    "from sklearn.metrics import mean_squared_error\n",
    "mean_squared_error(y_test,pred)"
   ]
  },
  {
   "cell_type": "code",
   "execution_count": 430,
   "metadata": {},
   "outputs": [
    {
     "data": {
      "text/plain": [
       "0.8326970317028723"
      ]
     },
     "execution_count": 430,
     "metadata": {},
     "output_type": "execute_result"
    }
   ],
   "source": [
    "import sklearn\n",
    "sklearn.metrics.r2_score(y_test, pred, sample_weight=None, multioutput='uniform_average')"
   ]
  },
  {
   "cell_type": "code",
   "execution_count": 406,
   "metadata": {},
   "outputs": [
    {
     "data": {
      "text/plain": [
       "36.895187938506716"
      ]
     },
     "execution_count": 406,
     "metadata": {},
     "output_type": "execute_result"
    }
   ],
   "source": [
    "pred = reg.predict(X)\n",
    "mean_squared_error(y,pred)"
   ]
  },
  {
   "cell_type": "code",
   "execution_count": null,
   "metadata": {},
   "outputs": [],
   "source": []
  },
  {
   "cell_type": "code",
   "execution_count": null,
   "metadata": {},
   "outputs": [],
   "source": []
  },
  {
   "cell_type": "code",
   "execution_count": null,
   "metadata": {},
   "outputs": [],
   "source": []
  }
 ],
 "metadata": {
  "kernelspec": {
   "display_name": "Python 3",
   "language": "python",
   "name": "python3"
  },
  "language_info": {
   "codemirror_mode": {
    "name": "ipython",
    "version": 3
   },
   "file_extension": ".py",
   "mimetype": "text/x-python",
   "name": "python",
   "nbconvert_exporter": "python",
   "pygments_lexer": "ipython3",
   "version": "3.8.3"
  }
 },
 "nbformat": 4,
 "nbformat_minor": 4
}
