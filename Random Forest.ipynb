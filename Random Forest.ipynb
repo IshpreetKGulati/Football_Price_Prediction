{
 "cells": [
  {
   "cell_type": "code",
   "execution_count": 2,
   "metadata": {},
   "outputs": [],
   "source": [
    "import pandas as pd\n",
    "import seaborn as sns\n",
    "import matplotlib.pyplot as plt\n",
    "import tqdm as tqdm\n",
    "import numpy as np"
   ]
  },
  {
   "cell_type": "code",
   "execution_count": 3,
   "metadata": {},
   "outputs": [
    {
     "name": "stderr",
     "output_type": "stream",
     "text": [
      "/opt/anaconda3/lib/python3.8/site-packages/pandas/core/indexing.py:671: SettingWithCopyWarning: \n",
      "A value is trying to be set on a copy of a slice from a DataFrame\n",
      "\n",
      "See the caveats in the documentation: https://pandas.pydata.org/pandas-docs/stable/user_guide/indexing.html#returning-a-view-versus-a-copy\n",
      "  self._setitem_with_indexer(indexer, value)\n"
     ]
    }
   ],
   "source": [
    "data = pd.read_csv(\"data.csv\")\n",
    "data = data.dropna()\n",
    "for i in range(0,data.shape[0]):\n",
    "    data['fpl_sel'].iloc[i] = float(str(data['fpl_sel'].iloc[i]).rstrip('%'))\n",
    "data['fpl_sel'] = data['fpl_sel'].astype('float64')\n",
    "#print(data.dtypes)\n",
    "#data.head"
   ]
  },
  {
   "cell_type": "code",
   "execution_count": null,
   "metadata": {},
   "outputs": [],
   "source": []
  },
  {
   "cell_type": "code",
   "execution_count": 4,
   "metadata": {},
   "outputs": [],
   "source": [
    "# print(data['page_views'].quantile(0.90))\n",
    "# data[\"page_views\"] = np.where(data[\"page_views\"] <1713.4, 1713.4,data['page_views'])\n",
    "# print(data['fpl_sel'].quantile(0.90))\n",
    "# data[\"fpl_sel\"] = np.where(data[\"fpl_sel\"] <10.4, 10.4,data['fpl_sel'])"
   ]
  },
  {
   "cell_type": "code",
   "execution_count": 5,
   "metadata": {},
   "outputs": [],
   "source": [
    "X = data[data.columns[~data.columns.isin(['market_value'])]]\n",
    "y = data['market_value']\n",
    "\n",
    "from sklearn.model_selection import train_test_split\n",
    "np.random.seed(37) # Set seed\n",
    "x_train, x_test = train_test_split(X, test_size = 0.15, random_state = 40 )\n",
    "\n",
    "## dont using iloc as we have projected from data\n",
    "y_train = y.loc[x_train.index.values] \n",
    "y_test = y.loc[x_test.index.values]\n",
    "x_train = X.loc[x_train.index.values, :]\n",
    "x_test = X.loc[x_test.index.values, :]"
   ]
  },
  {
   "cell_type": "code",
   "execution_count": 6,
   "metadata": {},
   "outputs": [],
   "source": [
    "x_train = x_train.dropna()\n",
    "x_train = x_train.drop(['position','name','age','club','nationality'], axis = 1)\n"
   ]
  },
  {
   "cell_type": "code",
   "execution_count": null,
   "metadata": {},
   "outputs": [],
   "source": [
    "\n",
    "\n"
   ]
  },
  {
   "cell_type": "code",
   "execution_count": 7,
   "metadata": {},
   "outputs": [],
   "source": [
    "\n",
    "\n",
    "X = x_train\n",
    "y = y_train"
   ]
  },
  {
   "cell_type": "code",
   "execution_count": 8,
   "metadata": {},
   "outputs": [
    {
     "data": {
      "text/plain": [
       "RandomForestRegressor(n_estimators=90, random_state=0)"
      ]
     },
     "execution_count": 8,
     "metadata": {},
     "output_type": "execute_result"
    }
   ],
   "source": [
    "#### Fitting Random Forest Regression to the dataset \n",
    "# import the regressor \n",
    "from sklearn.ensemble import RandomForestRegressor \n",
    "\n",
    "# create regressor object \n",
    "regressor = RandomForestRegressor(n_estimators = 90, random_state = 0) \n",
    "\n",
    "# fit the regressor with x and y data \n",
    "regressor.fit(X, y) \n"
   ]
  },
  {
   "cell_type": "code",
   "execution_count": 10,
   "metadata": {},
   "outputs": [
    {
     "data": {
      "text/plain": [
       "array([ 4.02388889, 15.22222222,  9.21111111, 19.08888889, 19.37777778,\n",
       "       56.14444444,  3.33333333,  4.27777778, 14.87777778,  4.86111111,\n",
       "       10.35555556,  5.76666667,  7.13888889,  3.10833333,  8.62222222,\n",
       "       25.08888889,  9.46666667,  1.04722222,  1.34166667,  5.61111111,\n",
       "       19.26666667,  5.16666667,  5.47222222, 10.97777778,  3.73888889,\n",
       "        9.23333333,  4.50944444,  5.35555556, 30.12222222, 26.68888889,\n",
       "        8.72777778, 12.48444444, 13.80555556,  5.76666667, 21.70555556,\n",
       "       49.48888889, 16.42222222, 20.63333333,  2.57388889, 27.78333333,\n",
       "        1.83444444, 22.36111111,  9.97222222, 12.55555556,  2.13611111,\n",
       "        1.73611111,  1.92888889,  8.3       ,  5.99444444, 14.02222222,\n",
       "        2.23611111,  3.77777778,  3.80555556,  2.41666667,  5.975     ,\n",
       "       18.34444444,  4.09722222,  3.86388889,  1.03055556, 18.79444444,\n",
       "        7.20555556, 17.55555556, 16.68888889,  5.72222222,  3.675     ,\n",
       "       18.17777778,  2.43611111, 13.08888889,  3.21666667])"
      ]
     },
     "execution_count": 10,
     "metadata": {},
     "output_type": "execute_result"
    }
   ],
   "source": [
    "x_test = x_test.drop(['position','name','age','club','nationality'], axis = 1)\n",
    "# scaled_data_test = scaler.fit_transform(x_test)\n",
    "# test_data = pca.transform(scaled_data_test)\n",
    "Y_pred = regressor.predict(x_test) # test the output by changing values \n",
    "Y_pred"
   ]
  },
  {
   "cell_type": "code",
   "execution_count": 11,
   "metadata": {},
   "outputs": [
    {
     "data": {
      "text/plain": [
       "20.985277773304706"
      ]
     },
     "execution_count": 11,
     "metadata": {},
     "output_type": "execute_result"
    }
   ],
   "source": [
    "from sklearn.metrics import mean_squared_error\n",
    "mean_squared_error(y_test,Y_pred)"
   ]
  },
  {
   "cell_type": "code",
   "execution_count": 12,
   "metadata": {},
   "outputs": [
    {
     "data": {
      "text/plain": [
       "0.8595545772917885"
      ]
     },
     "execution_count": 12,
     "metadata": {},
     "output_type": "execute_result"
    }
   ],
   "source": [
    "import sklearn\n",
    "sklearn.metrics.r2_score(y_test, Y_pred, sample_weight=None, multioutput='uniform_average')"
   ]
  },
  {
   "cell_type": "code",
   "execution_count": 13,
   "metadata": {},
   "outputs": [
    {
     "data": {
      "text/plain": [
       "6.078047849767928"
      ]
     },
     "execution_count": 13,
     "metadata": {},
     "output_type": "execute_result"
    }
   ],
   "source": [
    "mean_squared_error(y, regressor.predict(X))"
   ]
  },
  {
   "cell_type": "code",
   "execution_count": null,
   "metadata": {},
   "outputs": [],
   "source": []
  },
  {
   "cell_type": "code",
   "execution_count": null,
   "metadata": {},
   "outputs": [],
   "source": []
  },
  {
   "cell_type": "code",
   "execution_count": null,
   "metadata": {},
   "outputs": [],
   "source": []
  },
  {
   "cell_type": "code",
   "execution_count": null,
   "metadata": {},
   "outputs": [],
   "source": []
  }
 ],
 "metadata": {
  "kernelspec": {
   "display_name": "Python 3",
   "language": "python",
   "name": "python3"
  },
  "language_info": {
   "codemirror_mode": {
    "name": "ipython",
    "version": 3
   },
   "file_extension": ".py",
   "mimetype": "text/x-python",
   "name": "python",
   "nbconvert_exporter": "python",
   "pygments_lexer": "ipython3",
   "version": "3.8.3"
  }
 },
 "nbformat": 4,
 "nbformat_minor": 4
}
