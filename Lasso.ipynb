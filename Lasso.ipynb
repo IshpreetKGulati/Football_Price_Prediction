{
 "cells": [
  {
   "cell_type": "code",
   "execution_count": 174,
   "metadata": {},
   "outputs": [],
   "source": [
    "import pandas as pd\n",
    "import seaborn as sns\n",
    "import matplotlib.pyplot as plt\n",
    "import tqdm as tqdm\n",
    "import numpy as np"
   ]
  },
  {
   "cell_type": "code",
   "execution_count": 175,
   "metadata": {},
   "outputs": [
    {
     "name": "stderr",
     "output_type": "stream",
     "text": [
      "/opt/anaconda3/lib/python3.8/site-packages/pandas/core/indexing.py:671: SettingWithCopyWarning: \n",
      "A value is trying to be set on a copy of a slice from a DataFrame\n",
      "\n",
      "See the caveats in the documentation: https://pandas.pydata.org/pandas-docs/stable/user_guide/indexing.html#returning-a-view-versus-a-copy\n",
      "  self._setitem_with_indexer(indexer, value)\n"
     ]
    }
   ],
   "source": [
    "data = pd.read_csv(\"data.csv\")\n",
    "data = data.dropna()\n",
    "for i in range(0,data.shape[0]):\n",
    "    data['fpl_sel'].iloc[i] = float(str(data['fpl_sel'].iloc[i]).rstrip('%'))\n",
    "data['fpl_sel'] = data['fpl_sel'].astype('float64')\n",
    "#print(data.dtypes)\n",
    "#data.head"
   ]
  },
  {
   "cell_type": "code",
   "execution_count": 176,
   "metadata": {},
   "outputs": [
    {
     "name": "stdout",
     "output_type": "stream",
     "text": [
      "1713.400000000001\n",
      "10.4\n"
     ]
    }
   ],
   "source": [
    "print(data['page_views'].quantile(0.90))\n",
    "data[\"page_views\"] = np.where(data[\"page_views\"] <1713.4, 1713.4,data['page_views'])\n",
    "print(data['fpl_sel'].quantile(0.90))\n",
    "data[\"fpl_sel\"] = np.where(data[\"fpl_sel\"] <10.4, 10.4,data['fpl_sel'])"
   ]
  },
  {
   "cell_type": "code",
   "execution_count": 177,
   "metadata": {},
   "outputs": [],
   "source": [
    "import numpy as np\n",
    "X = data[data.columns[~data.columns.isin(['market_value'])]]\n",
    "y = data['market_value']\n",
    "\n",
    "from sklearn.model_selection import train_test_split\n",
    "np.random.seed(37) # Set seed\n",
    "x_train, x_test = train_test_split(X, test_size = 0.15, random_state = 40 )\n",
    "\n",
    "## dont using iloc as we have projected from data\n",
    "y_train = y.loc[x_train.index.values] \n",
    "y_test = y.loc[x_test.index.values]\n",
    "x_train = X.loc[x_train.index.values, :]\n",
    "x_test = X.loc[x_test.index.values, :]"
   ]
  },
  {
   "cell_type": "code",
   "execution_count": 178,
   "metadata": {},
   "outputs": [
    {
     "data": {
      "text/plain": [
       "(391, 11)"
      ]
     },
     "execution_count": 178,
     "metadata": {},
     "output_type": "execute_result"
    }
   ],
   "source": [
    "concat_train_data = pd.concat([x_train,y_train],axis=1)\n",
    "x_train = x_train.dropna()\n",
    "x_train = x_train.drop(['position','name','age','club','nationality'], axis = 1)\n",
    "#scaling\n",
    "from sklearn.preprocessing import StandardScaler\n",
    "scaler =StandardScaler()\n",
    "scaled_data = scaler.fit_transform(x_train)\n",
    "#print(scaler.transform(concat_train_data))\n",
    "scaled_data.shape"
   ]
  },
  {
   "cell_type": "code",
   "execution_count": 179,
   "metadata": {},
   "outputs": [
    {
     "name": "stdout",
     "output_type": "stream",
     "text": [
      "[2.75072243 1.39494706 1.32698917 1.08215631 0.98875446 0.9204883\n",
      " 0.76665807 0.69144442 0.54600807 0.4097055  0.15033134]\n",
      "[ 24.94261216  37.59151596  49.62420086  59.43682491  68.40251288\n",
      "  76.74918657  83.7009803   89.97076227  94.92177707  98.6368467\n",
      " 100.        ]\n"
     ]
    }
   ],
   "source": [
    "\n",
    "from sklearn.decomposition import PCA\n",
    "pca = PCA(n_components=11)\n",
    "pca.fit(scaled_data)\n",
    "print(pca.explained_variance_)\n",
    "print(np.cumsum(pca.explained_variance_ratio_*100))"
   ]
  },
  {
   "cell_type": "code",
   "execution_count": 201,
   "metadata": {},
   "outputs": [
    {
     "data": {
      "text/plain": [
       "PCA(n_components=11)"
      ]
     },
     "execution_count": 201,
     "metadata": {},
     "output_type": "execute_result"
    }
   ],
   "source": [
    "pca = PCA(n_components=11)\n",
    "pca.fit(scaled_data)"
   ]
  },
  {
   "cell_type": "code",
   "execution_count": 202,
   "metadata": {},
   "outputs": [],
   "source": [
    "X = pca.transform(scaled_data)\n",
    "y = y_train"
   ]
  },
  {
   "cell_type": "code",
   "execution_count": 203,
   "metadata": {},
   "outputs": [
    {
     "data": {
      "text/plain": [
       "Ridge(alpha=0.0001, max_iter=800, tol=1e-06)"
      ]
     },
     "execution_count": 203,
     "metadata": {},
     "output_type": "execute_result"
    }
   ],
   "source": [
    "from sklearn import linear_model\n",
    "clf = linear_model.Ridge(alpha=0.0001,max_iter=800,tol = 0.000001)\n",
    "clf.fit(X,y)"
   ]
  },
  {
   "cell_type": "code",
   "execution_count": 204,
   "metadata": {},
   "outputs": [],
   "source": [
    "#x_test = x_test.drop(['position','name','age','club','nationality'], axis = 1)\n",
    "scaled_data_test = scaler.fit_transform(x_test)\n",
    "test_data = pca.transform(scaled_data_test)\n",
    "pred = clf.predict(test_data)"
   ]
  },
  {
   "cell_type": "code",
   "execution_count": 205,
   "metadata": {},
   "outputs": [
    {
     "data": {
      "text/plain": [
       "0.8326970193380239"
      ]
     },
     "execution_count": 205,
     "metadata": {},
     "output_type": "execute_result"
    }
   ],
   "source": [
    "import sklearn\n",
    "sklearn.metrics.r2_score(y_test, pred, sample_weight=None, multioutput='uniform_average')"
   ]
  },
  {
   "cell_type": "code",
   "execution_count": 206,
   "metadata": {},
   "outputs": [
    {
     "data": {
      "text/plain": [
       "24.998319302919665"
      ]
     },
     "execution_count": 206,
     "metadata": {},
     "output_type": "execute_result"
    }
   ],
   "source": [
    "from sklearn.metrics import mean_squared_error\n",
    "mean_squared_error(y_test,pred)"
   ]
  },
  {
   "cell_type": "code",
   "execution_count": 207,
   "metadata": {},
   "outputs": [
    {
     "data": {
      "text/plain": [
       "36.89518793851001"
      ]
     },
     "execution_count": 207,
     "metadata": {},
     "output_type": "execute_result"
    }
   ],
   "source": [
    "pred_train = clf.predict(X)\n",
    "mean_squared_error(y,pred_train)"
   ]
  },
  {
   "cell_type": "code",
   "execution_count": 208,
   "metadata": {},
   "outputs": [
    {
     "data": {
      "text/plain": [
       "24.998789225119516"
      ]
     },
     "execution_count": 208,
     "metadata": {},
     "output_type": "execute_result"
    }
   ],
   "source": [
    "from sklearn import linear_model\n",
    "clf = linear_model.Lasso(alpha=0.0001,max_iter=800,tol = 0.000001)\n",
    "clf.fit(X,y)\n",
    "from sklearn.metrics import mean_squared_error\n",
    "pred_lasso = clf.predict(test_data)\n",
    "mean_squared_error(y_test,pred_lasso)"
   ]
  },
  {
   "cell_type": "code",
   "execution_count": 199,
   "metadata": {},
   "outputs": [
    {
     "data": {
      "text/plain": [
       "2"
      ]
     },
     "execution_count": 199,
     "metadata": {},
     "output_type": "execute_result"
    }
   ],
   "source": [
    "clf.n_iter_"
   ]
  },
  {
   "cell_type": "code",
   "execution_count": 200,
   "metadata": {},
   "outputs": [
    {
     "data": {
      "text/plain": [
       "0.8174076279673361"
      ]
     },
     "execution_count": 200,
     "metadata": {},
     "output_type": "execute_result"
    }
   ],
   "source": [
    "import sklearn\n",
    "sklearn.metrics.r2_score(y_test, pred_lasso, sample_weight=None, multioutput='uniform_average')"
   ]
  },
  {
   "cell_type": "code",
   "execution_count": null,
   "metadata": {},
   "outputs": [],
   "source": []
  },
  {
   "cell_type": "code",
   "execution_count": null,
   "metadata": {},
   "outputs": [],
   "source": []
  }
 ],
 "metadata": {
  "kernelspec": {
   "display_name": "Python 3",
   "language": "python",
   "name": "python3"
  },
  "language_info": {
   "codemirror_mode": {
    "name": "ipython",
    "version": 3
   },
   "file_extension": ".py",
   "mimetype": "text/x-python",
   "name": "python",
   "nbconvert_exporter": "python",
   "pygments_lexer": "ipython3",
   "version": "3.8.3"
  }
 },
 "nbformat": 4,
 "nbformat_minor": 4
}
